{
 "cells": [
  {
   "cell_type": "code",
   "execution_count": 1,
   "metadata": {},
   "outputs": [
    {
     "name": "stdout",
     "output_type": "stream",
     "text": [
      "Init Plugin\n",
      "Init Graph Optimizer\n",
      "Init Kernel\n"
     ]
    }
   ],
   "source": [
    "import numpy as np \n",
    "import pandas as pd \n",
    "#import cv2\n",
    "from PIL import Image \n",
    "import pathlib\n",
    "import matplotlib.pyplot as plt\n",
    "import tensorflow as tf\n",
    "\n",
    "from tensorflow.keras.applications import ResNet50\n",
    "import matplotlib.pyplot as plt\n",
    "import tensorflow_datasets as tfds"
   ]
  },
  {
   "cell_type": "code",
   "execution_count": 2,
   "metadata": {},
   "outputs": [],
   "source": [
    "import os\n",
    "os.environ['KMP_DUPLICATE_LIB_OK']='True'"
   ]
  },
  {
   "cell_type": "markdown",
   "metadata": {},
   "source": [
    "### \n",
    "https://www.oreilly.com/library/view/ai-and-machine/9781492078180/ch04.html"
   ]
  },
  {
   "cell_type": "code",
   "execution_count": 3,
   "metadata": {},
   "outputs": [],
   "source": [
    "#!jupyter nbextension enable --py widgetsnbextension"
   ]
  },
  {
   "cell_type": "code",
   "execution_count": 4,
   "metadata": {},
   "outputs": [
    {
     "name": "stdout",
     "output_type": "stream",
     "text": [
      "Metal device set to: Apple M1\n"
     ]
    },
    {
     "name": "stderr",
     "output_type": "stream",
     "text": [
      "2021-10-29 13:44:00.100005: I tensorflow/core/common_runtime/pluggable_device/pluggable_device_factory.cc:305] Could not identify NUMA node of platform GPU ID 0, defaulting to 0. Your kernel may not have been built with NUMA support.\n",
      "2021-10-29 13:44:00.100122: I tensorflow/core/common_runtime/pluggable_device/pluggable_device_factory.cc:271] Created TensorFlow device (/job:localhost/replica:0/task:0/device:GPU:0 with 0 MB memory) -> physical PluggableDevice (device: 0, name: METAL, pci bus id: <undefined>)\n"
     ]
    }
   ],
   "source": [
    "#the first method\n",
    "(train_dataset, test_dataset), dataset_info = tfds.load('mnist',\n",
    "                                                        split=[\"train\",\"test\"],\n",
    "                                                        with_info=True,\n",
    "                                                        shuffle_files=True)"
   ]
  },
  {
   "cell_type": "code",
   "execution_count": 5,
   "metadata": {},
   "outputs": [
    {
     "name": "stdout",
     "output_type": "stream",
     "text": [
      "tf.Tensor(4, shape=(), dtype=int64)\n"
     ]
    },
    {
     "name": "stderr",
     "output_type": "stream",
     "text": [
      "2021-10-29 13:44:00.135517: I tensorflow/compiler/mlir/mlir_graph_optimization_pass.cc:176] None of the MLIR Optimization Passes are enabled (registered 2)\n",
      "2021-10-29 13:44:00.135717: W tensorflow/core/platform/profile_utils/cpu_utils.cc:128] Failed to get CPU frequency: 0 Hz\n",
      "2021-10-29 13:44:00.157999: W tensorflow/core/kernels/data/cache_dataset_ops.cc:768] The calling iterator did not fully read the dataset being cached. In order to avoid unexpected truncation of the dataset, the partially cached contents of the dataset  will be discarded. This can happen if you have an input pipeline similar to `dataset.cache().take(k).repeat()`. You should use `dataset.take(k).cache().repeat()` instead.\n"
     ]
    },
    {
     "data": {
      "image/png": "[encoded data removed]",
      "text/plain": [
       "<Figure size 432x288 with 1 Axes>"
      ]
     },
     "metadata": {
      "needs_background": "light"
     },
     "output_type": "display_data"
    }
   ],
   "source": [
    "for sample in train_dataset.take(1): #as the take number increases (from 2 to 5), the last bbox related to the last images are shown. \n",
    "    image = sample[\"image\"]\n",
    "    label = sample[\"label\"]\n",
    "    print(label)\n",
    "    plt.imshow(image)"
   ]
  },
  {
   "cell_type": "code",
   "execution_count": 6,
   "metadata": {},
   "outputs": [],
   "source": [
    "#second method\n",
    "#/home/abaygi/tensorflow_datasets/mnist/3.0.1\n",
    "(train_dataset, test_dataset), dataset_info = tfds.load(\"mnist\", \n",
    "                                                        split=[\"train\", \"test\"], \n",
    "                                                        with_info=True, \n",
    "                                                        shuffle_files=True, \n",
    "                                                        batch_size=-1, \n",
    "                                                        as_supervised=True)\n",
    "\n",
    "#(training_images, training_labels), (test_images, test_labels)"
   ]
  },
  {
   "cell_type": "code",
   "execution_count": 7,
   "metadata": {},
   "outputs": [],
   "source": [
    "training_images, training_labels = tfds.as_numpy(train_dataset)"
   ]
  },
  {
   "cell_type": "code",
   "execution_count": 8,
   "metadata": {},
   "outputs": [
    {
     "data": {
      "text/plain": [
       "(28, 28, 1)"
      ]
     },
     "execution_count": 8,
     "metadata": {},
     "output_type": "execute_result"
    }
   ],
   "source": [
    "training_images[30].shape"
   ]
  },
  {
   "cell_type": "code",
   "execution_count": 9,
   "metadata": {},
   "outputs": [],
   "source": [
    "test_images, test_labels = tfds.as_numpy(test_dataset)"
   ]
  },
  {
   "cell_type": "code",
   "execution_count": 10,
   "metadata": {},
   "outputs": [],
   "source": [
    "#ds = tfds.load('mnist', split='train', shuffle_files=True)"
   ]
  },
  {
   "cell_type": "code",
   "execution_count": 11,
   "metadata": {},
   "outputs": [],
   "source": [
    "\n",
    "\n",
    "\n",
    "\n",
    "\n",
    "#dataset_info"
   ]
  },
  {
   "cell_type": "code",
   "execution_count": 12,
   "metadata": {},
   "outputs": [],
   "source": [
    "#train_dataset"
   ]
  },
  {
   "cell_type": "code",
   "execution_count": 13,
   "metadata": {},
   "outputs": [],
   "source": [
    "#Deep Learning\n",
    "import tensorflow as tf\n",
    "from tensorflow import keras\n",
    "from tensorflow.keras import layers \n",
    "from tensorflow.keras.models import Sequential\n",
    "from tensorflow.keras.preprocessing.image import ImageDataGenerator\n",
    "#from tensorflow.models import Sequential"
   ]
  },
  {
   "cell_type": "code",
   "execution_count": 14,
   "metadata": {},
   "outputs": [
    {
     "data": {
      "text/plain": [
       "(60000, 28, 28, 1)"
      ]
     },
     "execution_count": 14,
     "metadata": {},
     "output_type": "execute_result"
    }
   ],
   "source": [
    "training_images.shape"
   ]
  },
  {
   "cell_type": "code",
   "execution_count": 15,
   "metadata": {},
   "outputs": [
    {
     "data": {
      "text/plain": [
       "(10000, 28, 28, 1)"
      ]
     },
     "execution_count": 15,
     "metadata": {},
     "output_type": "execute_result"
    }
   ],
   "source": [
    "test_images.shape"
   ]
  },
  {
   "cell_type": "code",
   "execution_count": 16,
   "metadata": {},
   "outputs": [
    {
     "data": {
      "text/plain": [
       "<matplotlib.image.AxesImage at 0x29f0de370>"
      ]
     },
     "execution_count": 16,
     "metadata": {},
     "output_type": "execute_result"
    },
    {
     "data": {
      "image/png": "[encoded data removed]",
      "text/plain": [
       "<Figure size 432x288 with 1 Axes>"
      ]
     },
     "metadata": {
      "needs_background": "light"
     },
     "output_type": "display_data"
    }
   ],
   "source": [
    "plt.imshow(training_images[0])"
   ]
  },
  {
   "cell_type": "markdown",
   "metadata": {},
   "source": [
    "### \n",
    "In order to use the pre-trained model introduced later in the tutorial, we will need to convert each image into a size of at least (75, 75, 3). Due to the limited RAM, we will use the minimum size. Note that we also have to include three channels instead of just 1 (just copy the same channel 3 times) to make use of the pre-trained weights.\n",
    "\n",
    "https://www.kaggle.com/saumandas/intro-to-transfer-learning-with-mnist"
   ]
  },
  {
   "cell_type": "code",
   "execution_count": 17,
   "metadata": {},
   "outputs": [],
   "source": [
    "from tensorflow.keras.preprocessing.image import load_img, img_to_array, array_to_img\n",
    "\n",
    "def change_size(image):\n",
    "    img = array_to_img(image, scale=False) #returns PIL Image\n",
    "    img = img.resize((75, 75)) #resize image\n",
    "    img = img.convert(mode='RGB') #makes 3 channels\n",
    "    arr = img_to_array(img) #convert back to array\n",
    "    return arr.astype(np.float64)\n"
   ]
  },
  {
   "cell_type": "code",
   "execution_count": 18,
   "metadata": {},
   "outputs": [],
   "source": [
    "training_images_75 = [change_size(img) for img in training_images[:10000]]\n"
   ]
  },
  {
   "cell_type": "code",
   "execution_count": 19,
   "metadata": {},
   "outputs": [],
   "source": [
    "training_images_75 = np.array(training_images_75)"
   ]
  },
  {
   "cell_type": "code",
   "execution_count": 20,
   "metadata": {},
   "outputs": [
    {
     "name": "stderr",
     "output_type": "stream",
     "text": [
      "WARNING:matplotlib.image:Clipping input data to the valid range for imshow with RGB data ([0..1] for floats or [0..255] for integers).\n"
     ]
    },
    {
     "data": {
      "text/plain": [
       "<matplotlib.image.AxesImage at 0x29f206850>"
      ]
     },
     "execution_count": 20,
     "metadata": {},
     "output_type": "execute_result"
    },
    {
     "data": {
      "image/png": "[encoded data removed]",
      "text/plain": [
       "<Figure size 432x288 with 1 Axes>"
      ]
     },
     "metadata": {
      "needs_background": "light"
     },
     "output_type": "display_data"
    }
   ],
   "source": [
    "plt.imshow(training_images_75[8])"
   ]
  },
  {
   "cell_type": "markdown",
   "metadata": {},
   "source": [
    "### Data Augmentation\n",
    "\n",
    "Data augmentation is one of the most fundamental and useful strategy when dealing with images. It becomes especially useful if we have few images. This is not the case with this dataset, but it will still help anyway. Fortunately, ImageDataGenerator from keras makes it extremely simple to apply these augmentations. However, it is important to be careful when deciding which augmentations to apply.\n",
    "\n",
    "https://www.kaggle.com/saumandas/intro-to-transfer-learning-with-mnist\n",
    "\n"
   ]
  },
  {
   "cell_type": "code",
   "execution_count": 21,
   "metadata": {},
   "outputs": [],
   "source": [
    "\n",
    "image_gen = ImageDataGenerator(rescale=1./255, #easier for network to interpret numbers in range [0,1]\n",
    "                              zoom_range=0.1,\n",
    "                              width_shift_range=0.2,\n",
    "                              height_shift_range=0.2,\n",
    "                              validation_split=0.2) # 80/20 train/val split\n"
   ]
  },
  {
   "cell_type": "code",
   "execution_count": 22,
   "metadata": {},
   "outputs": [],
   "source": [
    "#dealing with labels"
   ]
  },
  {
   "cell_type": "code",
   "execution_count": 23,
   "metadata": {},
   "outputs": [
    {
     "data": {
      "text/plain": [
       "4"
      ]
     },
     "execution_count": 23,
     "metadata": {},
     "output_type": "execute_result"
    }
   ],
   "source": [
    "\n",
    "training_labels[0]"
   ]
  },
  {
   "cell_type": "code",
   "execution_count": 24,
   "metadata": {},
   "outputs": [],
   "source": [
    "y = tf.keras.utils.to_categorical(training_labels[:10000]) # one-hot encoding"
   ]
  },
  {
   "cell_type": "code",
   "execution_count": 25,
   "metadata": {},
   "outputs": [
    {
     "data": {
      "text/plain": [
       "array([0., 0., 0., 0., 1., 0., 0., 0., 0., 0.], dtype=float32)"
      ]
     },
     "execution_count": 25,
     "metadata": {},
     "output_type": "execute_result"
    }
   ],
   "source": [
    "y[0]"
   ]
  },
  {
   "cell_type": "code",
   "execution_count": 26,
   "metadata": {},
   "outputs": [
    {
     "data": {
      "text/plain": [
       "(10000, 75, 75, 3)"
      ]
     },
     "execution_count": 26,
     "metadata": {},
     "output_type": "execute_result"
    }
   ],
   "source": [
    "training_images_75.shape"
   ]
  },
  {
   "cell_type": "code",
   "execution_count": 27,
   "metadata": {},
   "outputs": [],
   "source": [
    "train_generator = image_gen.flow(training_images_75, \n",
    "                                 y,\n",
    "                                batch_size=32,\n",
    "                                shuffle=True,\n",
    "                                subset='training',\n",
    "                                seed=42)\n",
    "valid_generator = image_gen.flow(training_images_75,\n",
    "                                 y,\n",
    "                                batch_size=16,\n",
    "                                shuffle=True,\n",
    "                                subset='validation')"
   ]
  },
  {
   "cell_type": "markdown",
   "metadata": {},
   "source": [
    "### Transfer Learning\n",
    "\n",
    "Many features in general images are common and it is not worth starting to train from scratch. Usually the beginning layers in convolutional neural networks identify extremely basic features such as vertical and horizontal lines. This is what forms the backbone of tranfer learning. Using other peoples models, which have been trained on lots of data and are capable of identifying simple features, to fit your own data.\n",
    "\n",
    "Imagenet\n",
    "\n",
    "Imagenet is one of the largest image databases in the world! Every year, they host a competition known as the Imagenet Large Scale Visual Recognition Challenge (ILSVRC), where scientists from all over the world compete to create the best model. A couple years back, a group of researchers came up with the ResNet50, and now it's available to everyone! Learn more about the model here: resnet50 info."
   ]
  },
  {
   "cell_type": "markdown",
   "metadata": {},
   "source": [
    "### shape_size for ResNet50\n",
    "In practice, it is best to use this model with image size (224, 224, 3) since the original model was trained with that size. However, for the purpose of this tutorial (75, 75, 3) will also work. Note that we specified the weights as 'imagenet'. This will automatically load those pretrained weights into the model. If we do not specify, the weights will be initialized randomly and we would be starting from scratch"
   ]
  },
  {
   "cell_type": "code",
   "execution_count": 28,
   "metadata": {},
   "outputs": [],
   "source": [
    "model = Sequential()\n",
    "\n",
    "#model transfer learing \n",
    "model.add(tf.keras.applications.resnet50.ResNet50(input_shape=(75, 75, 3),\n",
    "                                                 include_top = False, \n",
    "                                                 weights = \"imagenet\"))\n",
    "model.add(layers.Flatten())\n",
    "model.add(layers.Dense(128, activation=\"relu\"))\n",
    "model.add(layers.Dense(10, activation=\"softmax\"))"
   ]
  },
  {
   "cell_type": "code",
   "execution_count": 29,
   "metadata": {},
   "outputs": [
    {
     "name": "stderr",
     "output_type": "stream",
     "text": [
      "/Users/abaygi/miniforge3/lib/python3.9/site-packages/tensorflow/python/keras/optimizer_v2/optimizer_v2.py:374: UserWarning: The `lr` argument is deprecated, use `learning_rate` instead.\n",
      "  warnings.warn(\n"
     ]
    }
   ],
   "source": [
    "\n",
    "model.compile(optimizer=keras.optimizers.Adam(lr=0.0001), loss='categorical_crossentropy', metrics=['accuracy'])\n",
    "#model.compile(optimizer=\"sgd\", loss='categorical_crossentropy', metrics=['accuracy'])"
   ]
  },
  {
   "cell_type": "code",
   "execution_count": 30,
   "metadata": {},
   "outputs": [
    {
     "name": "stdout",
     "output_type": "stream",
     "text": [
      "<tensorflow.python.keras.engine.input_layer.InputLayer object at 0x107e4b8e0>\n",
      "<tensorflow.python.keras.layers.convolutional.ZeroPadding2D object at 0x29f25df10>\n",
      "<tensorflow.python.keras.layers.convolutional.Conv2D object at 0x29f27f2e0>\n",
      "<tensorflow.python.keras.layers.normalization_v2.BatchNormalization object at 0x29f27f460>\n",
      "<tensorflow.python.keras.layers.core.Activation object at 0x29f27fac0>\n",
      "<tensorflow.python.keras.layers.convolutional.ZeroPadding2D object at 0x29f1adfa0>\n",
      "<tensorflow.python.keras.layers.pooling.MaxPooling2D object at 0x29f824b20>\n",
      "<tensorflow.python.keras.layers.convolutional.Conv2D object at 0x29f824940>\n",
      "<tensorflow.python.keras.layers.normalization_v2.BatchNormalization object at 0x29f858a90>\n",
      "<tensorflow.python.keras.layers.core.Activation object at 0x29f85d490>\n",
      "<tensorflow.python.keras.layers.convolutional.Conv2D object at 0x29f852df0>\n",
      "<tensorflow.python.keras.layers.normalization_v2.BatchNormalization object at 0x29dc719a0>\n",
      "<tensorflow.python.keras.layers.core.Activation object at 0x29f85dbe0>\n",
      "<tensorflow.python.keras.layers.convolutional.Conv2D object at 0x29f8345b0>\n",
      "<tensorflow.python.keras.layers.convolutional.Conv2D object at 0x29f1adc40>\n",
      "<tensorflow.python.keras.layers.normalization_v2.BatchNormalization object at 0x29f852280>\n",
      "<tensorflow.python.keras.layers.normalization_v2.BatchNormalization object at 0x29f85faf0>\n",
      "<tensorflow.python.keras.layers.merge.Add object at 0x29f865c10>\n",
      "<tensorflow.python.keras.layers.core.Activation object at 0x29f86b0a0>\n",
      "<tensorflow.python.keras.layers.convolutional.Conv2D object at 0x29f872e20>\n",
      "<tensorflow.python.keras.layers.normalization_v2.BatchNormalization object at 0x29f879af0>\n",
      "<tensorflow.python.keras.layers.core.Activation object at 0x29f85f430>\n",
      "<tensorflow.python.keras.layers.convolutional.Conv2D object at 0x29f87ebe0>\n",
      "<tensorflow.python.keras.layers.normalization_v2.BatchNormalization object at 0x29f82abb0>\n",
      "<tensorflow.python.keras.layers.core.Activation object at 0x29f824820>\n",
      "<tensorflow.python.keras.layers.convolutional.Conv2D object at 0x29f82aa60>\n",
      "<tensorflow.python.keras.layers.normalization_v2.BatchNormalization object at 0x29faa3190>\n",
      "<tensorflow.python.keras.layers.merge.Add object at 0x29f8874c0>\n",
      "<tensorflow.python.keras.layers.core.Activation object at 0x29faa3070>\n",
      "<tensorflow.python.keras.layers.convolutional.Conv2D object at 0x29fab23d0>\n",
      "<tensorflow.python.keras.layers.normalization_v2.BatchNormalization object at 0x29fab7160>\n",
      "<tensorflow.python.keras.layers.core.Activation object at 0x29f82a6d0>\n",
      "<tensorflow.python.keras.layers.convolutional.Conv2D object at 0x29faa97f0>\n",
      "<tensorflow.python.keras.layers.normalization_v2.BatchNormalization object at 0x29fac1220>\n",
      "<tensorflow.python.keras.layers.core.Activation object at 0x29fac11f0>\n",
      "<tensorflow.python.keras.layers.convolutional.Conv2D object at 0x29faa9f10>\n",
      "<tensorflow.python.keras.layers.normalization_v2.BatchNormalization object at 0x29facd670>\n",
      "<tensorflow.python.keras.layers.merge.Add object at 0x29fad4790>\n",
      "<tensorflow.python.keras.layers.core.Activation object at 0x29fad4dc0>\n",
      "<tensorflow.python.keras.layers.convolutional.Conv2D object at 0x29fb25c10>\n",
      "<tensorflow.python.keras.layers.normalization_v2.BatchNormalization object at 0x29fb2b4c0>\n",
      "<tensorflow.python.keras.layers.core.Activation object at 0x29f872df0>\n",
      "<tensorflow.python.keras.layers.convolutional.Conv2D object at 0x29fb39be0>\n",
      "<tensorflow.python.keras.layers.normalization_v2.BatchNormalization object at 0x29fb3c760>\n",
      "<tensorflow.python.keras.layers.core.Activation object at 0x29fb43880>\n",
      "<tensorflow.python.keras.layers.convolutional.Conv2D object at 0x29facdaf0>\n",
      "<tensorflow.python.keras.layers.convolutional.Conv2D object at 0x29fb436d0>\n",
      "<tensorflow.python.keras.layers.normalization_v2.BatchNormalization object at 0x29fb256d0>\n",
      "<tensorflow.python.keras.layers.normalization_v2.BatchNormalization object at 0x29fb49c40>\n",
      "<tensorflow.python.keras.layers.merge.Add object at 0x29fb57070>\n",
      "<tensorflow.python.keras.layers.core.Activation object at 0x29fb57bb0>\n",
      "<tensorflow.python.keras.layers.convolutional.Conv2D object at 0x29fb433a0>\n",
      "<tensorflow.python.keras.layers.normalization_v2.BatchNormalization object at 0x29fb30d60>\n",
      "<tensorflow.python.keras.layers.core.Activation object at 0x29fad4610>\n",
      "<tensorflow.python.keras.layers.convolutional.Conv2D object at 0x29fb3c0a0>\n",
      "<tensorflow.python.keras.layers.normalization_v2.BatchNormalization object at 0x29fabd9d0>\n",
      "<tensorflow.python.keras.layers.core.Activation object at 0x29f8878b0>\n",
      "<tensorflow.python.keras.layers.convolutional.Conv2D object at 0x29fb30ca0>\n",
      "<tensorflow.python.keras.layers.normalization_v2.BatchNormalization object at 0x29f86baf0>\n",
      "<tensorflow.python.keras.layers.merge.Add object at 0x29f858d00>\n",
      "<tensorflow.python.keras.layers.core.Activation object at 0x29f85fa00>\n",
      "<tensorflow.python.keras.layers.convolutional.Conv2D object at 0x29f8356d0>\n",
      "<tensorflow.python.keras.layers.normalization_v2.BatchNormalization object at 0x29fb45490>\n",
      "<tensorflow.python.keras.layers.core.Activation object at 0x29fb45f40>\n",
      "<tensorflow.python.keras.layers.convolutional.Conv2D object at 0x29fb5aa00>\n",
      "<tensorflow.python.keras.layers.normalization_v2.BatchNormalization object at 0x29fb5f550>\n",
      "<tensorflow.python.keras.layers.core.Activation object at 0x29f8653a0>\n",
      "<tensorflow.python.keras.layers.convolutional.Conv2D object at 0x29fab7f70>\n",
      "<tensorflow.python.keras.layers.normalization_v2.BatchNormalization object at 0x2a82f3970>\n",
      "<tensorflow.python.keras.layers.merge.Add object at 0x29fb5c820>\n",
      "<tensorflow.python.keras.layers.core.Activation object at 0x2a82fa5b0>\n",
      "<tensorflow.python.keras.layers.convolutional.Conv2D object at 0x2a82ffc70>\n",
      "<tensorflow.python.keras.layers.normalization_v2.BatchNormalization object at 0x2a8305940>\n",
      "<tensorflow.python.keras.layers.core.Activation object at 0x2a8305f40>\n",
      "<tensorflow.python.keras.layers.convolutional.Conv2D object at 0x2a82faee0>\n",
      "<tensorflow.python.keras.layers.normalization_v2.BatchNormalization object at 0x2a8312a00>\n",
      "<tensorflow.python.keras.layers.core.Activation object at 0x2a8305d90>\n",
      "<tensorflow.python.keras.layers.convolutional.Conv2D object at 0x2a8312fd0>\n",
      "<tensorflow.python.keras.layers.normalization_v2.BatchNormalization object at 0x2a831eee0>\n",
      "<tensorflow.python.keras.layers.merge.Add object at 0x2a8317c70>\n",
      "<tensorflow.python.keras.layers.core.Activation object at 0x2a83259d0>\n",
      "<tensorflow.python.keras.layers.convolutional.Conv2D object at 0x2a8486fd0>\n",
      "<tensorflow.python.keras.layers.normalization_v2.BatchNormalization object at 0x2a848e640>\n",
      "<tensorflow.python.keras.layers.core.Activation object at 0x29fb43730>\n",
      "<tensorflow.python.keras.layers.convolutional.Conv2D object at 0x2a8494ca0>\n",
      "<tensorflow.python.keras.layers.normalization_v2.BatchNormalization object at 0x2a84a1130>\n",
      "<tensorflow.python.keras.layers.core.Activation object at 0x2a84a1fa0>\n",
      "<tensorflow.python.keras.layers.convolutional.Conv2D object at 0x2a831e2b0>\n",
      "<tensorflow.python.keras.layers.convolutional.Conv2D object at 0x2a8499eb0>\n",
      "<tensorflow.python.keras.layers.normalization_v2.BatchNormalization object at 0x2a8481eb0>\n",
      "<tensorflow.python.keras.layers.normalization_v2.BatchNormalization object at 0x2a8486ee0>\n",
      "<tensorflow.python.keras.layers.merge.Add object at 0x2a8317a90>\n",
      "<tensorflow.python.keras.layers.core.Activation object at 0x2a830bb20>\n",
      "<tensorflow.python.keras.layers.convolutional.Conv2D object at 0x2a82fa760>\n",
      "<tensorflow.python.keras.layers.normalization_v2.BatchNormalization object at 0x29f85f040>\n",
      "<tensorflow.python.keras.layers.core.Activation object at 0x29fb3cca0>\n",
      "<tensorflow.python.keras.layers.convolutional.Conv2D object at 0x2a82f00a0>\n",
      "<tensorflow.python.keras.layers.normalization_v2.BatchNormalization object at 0x29fb57af0>\n",
      "<tensorflow.python.keras.layers.core.Activation object at 0x29f87ea90>\n",
      "<tensorflow.python.keras.layers.convolutional.Conv2D object at 0x2a84a7b50>\n",
      "<tensorflow.python.keras.layers.normalization_v2.BatchNormalization object at 0x2a848fca0>\n",
      "<tensorflow.python.keras.layers.merge.Add object at 0x2a84abdc0>\n",
      "<tensorflow.python.keras.layers.core.Activation object at 0x2a84aeee0>\n",
      "<tensorflow.python.keras.layers.convolutional.Conv2D object at 0x2a84aff70>\n",
      "<tensorflow.python.keras.layers.normalization_v2.BatchNormalization object at 0x2a84b2c70>\n",
      "<tensorflow.python.keras.layers.core.Activation object at 0x2a84b6d90>\n",
      "<tensorflow.python.keras.layers.convolutional.Conv2D object at 0x2a84ae5b0>\n",
      "<tensorflow.python.keras.layers.normalization_v2.BatchNormalization object at 0x2a84bad30>\n",
      "<tensorflow.python.keras.layers.core.Activation object at 0x2a848f7c0>\n",
      "<tensorflow.python.keras.layers.convolutional.Conv2D object at 0x2a84bab80>\n",
      "<tensorflow.python.keras.layers.normalization_v2.BatchNormalization object at 0x2a950c310>\n",
      "<tensorflow.python.keras.layers.merge.Add object at 0x2a950c040>\n",
      "<tensorflow.python.keras.layers.core.Activation object at 0x2a84b6f10>\n",
      "<tensorflow.python.keras.layers.convolutional.Conv2D object at 0x2a9518550>\n",
      "<tensorflow.python.keras.layers.normalization_v2.BatchNormalization object at 0x2a951d2e0>\n",
      "<tensorflow.python.keras.layers.core.Activation object at 0x2a951d640>\n",
      "<tensorflow.python.keras.layers.convolutional.Conv2D object at 0x2a9511c10>\n",
      "<tensorflow.python.keras.layers.normalization_v2.BatchNormalization object at 0x2a952b3a0>\n",
      "<tensorflow.python.keras.layers.core.Activation object at 0x2a9511e50>\n",
      "<tensorflow.python.keras.layers.convolutional.Conv2D object at 0x2a9518be0>\n",
      "<tensorflow.python.keras.layers.normalization_v2.BatchNormalization object at 0x2a95347f0>\n",
      "<tensorflow.python.keras.layers.merge.Add object at 0x2a953b910>\n",
      "<tensorflow.python.keras.layers.core.Activation object at 0x2a953be20>\n",
      "<tensorflow.python.keras.layers.convolutional.Conv2D object at 0x2aad43af0>\n",
      "<tensorflow.python.keras.layers.normalization_v2.BatchNormalization object at 0x2aad4a7c0>\n",
      "<tensorflow.python.keras.layers.core.Activation object at 0x2aad433d0>\n",
      "<tensorflow.python.keras.layers.convolutional.Conv2D object at 0x2a953ba90>\n",
      "<tensorflow.python.keras.layers.normalization_v2.BatchNormalization object at 0x2aad54880>\n",
      "<tensorflow.python.keras.layers.core.Activation object at 0x2aad5a9a0>\n",
      "<tensorflow.python.keras.layers.convolutional.Conv2D object at 0x2aad54730>\n",
      "<tensorflow.python.keras.layers.normalization_v2.BatchNormalization object at 0x2a95346d0>\n",
      "<tensorflow.python.keras.layers.merge.Add object at 0x2aad5a8b0>\n",
      "<tensorflow.python.keras.layers.core.Activation object at 0x2a951dc40>\n",
      "<tensorflow.python.keras.layers.convolutional.Conv2D object at 0x2a9507730>\n",
      "<tensorflow.python.keras.layers.normalization_v2.BatchNormalization object at 0x2a84afa90>\n",
      "<tensorflow.python.keras.layers.core.Activation object at 0x29fb57b80>\n",
      "<tensorflow.python.keras.layers.convolutional.Conv2D object at 0x29fabdee0>\n",
      "<tensorflow.python.keras.layers.normalization_v2.BatchNormalization object at 0x2a831e040>\n",
      "<tensorflow.python.keras.layers.core.Activation object at 0x2a82ff700>\n",
      "<tensorflow.python.keras.layers.convolutional.Conv2D object at 0x2a848ec40>\n",
      "<tensorflow.python.keras.layers.normalization_v2.BatchNormalization object at 0x2aad61580>\n",
      "<tensorflow.python.keras.layers.merge.Add object at 0x2a82fa7f0>\n",
      "<tensorflow.python.keras.layers.core.Activation object at 0x2aad63310>\n",
      "<tensorflow.python.keras.layers.convolutional.Conv2D object at 0x2a831e6d0>\n",
      "<tensorflow.python.keras.layers.normalization_v2.BatchNormalization object at 0x2aad6d850>\n",
      "<tensorflow.python.keras.layers.core.Activation object at 0x2a82fab20>\n",
      "<tensorflow.python.keras.layers.convolutional.Conv2D object at 0x2aad79be0>\n",
      "<tensorflow.python.keras.layers.normalization_v2.BatchNormalization object at 0x2aad806d0>\n",
      "<tensorflow.python.keras.layers.core.Activation object at 0x2aad86730>\n",
      "<tensorflow.python.keras.layers.convolutional.Conv2D object at 0x2aad61640>\n",
      "<tensorflow.python.keras.layers.convolutional.Conv2D object at 0x2aad80ac0>\n",
      "<tensorflow.python.keras.layers.normalization_v2.BatchNormalization object at 0x2aad6a520>\n",
      "<tensorflow.python.keras.layers.normalization_v2.BatchNormalization object at 0x2aad8daf0>\n",
      "<tensorflow.python.keras.layers.merge.Add object at 0x2aad92cd0>\n",
      "<tensorflow.python.keras.layers.core.Activation object at 0x2aad79a90>\n",
      "<tensorflow.python.keras.layers.convolutional.Conv2D object at 0x2aad98df0>\n",
      "<tensorflow.python.keras.layers.normalization_v2.BatchNormalization object at 0x2aada1af0>\n",
      "<tensorflow.python.keras.layers.core.Activation object at 0x2aad86b80>\n",
      "<tensorflow.python.keras.layers.convolutional.Conv2D object at 0x2aada1940>\n",
      "<tensorflow.python.keras.layers.normalization_v2.BatchNormalization object at 0x2aadabb80>\n",
      "<tensorflow.python.keras.layers.core.Activation object at 0x2aada1b50>\n",
      "<tensorflow.python.keras.layers.convolutional.Conv2D object at 0x2aadabac0>\n",
      "<tensorflow.python.keras.layers.normalization_v2.BatchNormalization object at 0x2aadbc130>\n",
      "<tensorflow.python.keras.layers.merge.Add object at 0x2aadaeb50>\n",
      "<tensorflow.python.keras.layers.core.Activation object at 0x2aadbc520>\n",
      "<tensorflow.python.keras.layers.convolutional.Conv2D object at 0x2aadcb370>\n",
      "<tensorflow.python.keras.layers.normalization_v2.BatchNormalization object at 0x2aadcbaf0>\n",
      "<tensorflow.python.keras.layers.core.Activation object at 0x2aadd0f10>\n",
      "<tensorflow.python.keras.layers.convolutional.Conv2D object at 0x2aadbcf40>\n",
      "<tensorflow.python.keras.layers.normalization_v2.BatchNormalization object at 0x2aadab340>\n",
      "<tensorflow.python.keras.layers.core.Activation object at 0x2aad80130>\n",
      "<tensorflow.python.keras.layers.convolutional.Conv2D object at 0x2aadaed30>\n",
      "<tensorflow.python.keras.layers.normalization_v2.BatchNormalization object at 0x2aad6d310>\n",
      "<tensorflow.python.keras.layers.merge.Add object at 0x29fb57b50>\n",
      "<tensorflow.python.keras.layers.core.Activation object at 0x2aad61f70>\n"
     ]
    }
   ],
   "source": [
    "for layer in model.layers[0].layers:\n",
    "    print(layer)"
   ]
  },
  {
   "cell_type": "code",
   "execution_count": 31,
   "metadata": {},
   "outputs": [],
   "source": [
    "for layer in model.layers[0].layers:\n",
    "    if layer.name == 'conv5_block1_0_conv':\n",
    "        break\n",
    "    layer.trainable=False\n"
   ]
  },
  {
   "cell_type": "code",
   "execution_count": 32,
   "metadata": {},
   "outputs": [
    {
     "name": "stderr",
     "output_type": "stream",
     "text": [
      "2021-10-29 13:44:11.933553: I tensorflow/core/grappler/optimizers/custom_graph_optimizer_registry.cc:112] Plugin optimizer for device_type GPU is enabled.\n"
     ]
    },
    {
     "name": "stdout",
     "output_type": "stream",
     "text": [
      "250/250 [==============================] - ETA: 0s - loss: 0.4376 - accuracy: 0.8716"
     ]
    },
    {
     "name": "stderr",
     "output_type": "stream",
     "text": [
      "2021-10-29 13:45:13.619194: I tensorflow/core/grappler/optimizers/custom_graph_optimizer_registry.cc:112] Plugin optimizer for device_type GPU is enabled.\n"
     ]
    },
    {
     "name": "stdout",
     "output_type": "stream",
     "text": [
      "\b\b\b\b\b\b\b\b\b\b\b\b\b\b\b\b\b\b\b\b\b\b\b\b\b\b\b\b\b\b\b\b\b\b\b\b\b\b\b\b\b\b\b\b\b\b\b\b\b\b\b\b\b\b\b\b\b\b\b\b\b\b\b\b\b\b\b\b\b\b\b\b\b\b\b\b\b\b\b\b\b\b\b\b\r",
      "250/250 [==============================] - 68s 263ms/step - loss: 0.4376 - accuracy: 0.8716 - val_loss: 2.6147 - val_accuracy: 0.1700\n"
     ]
    }
   ],
   "source": [
    "history = model.fit(train_generator,\n",
    "                   validation_data=valid_generator, \n",
    "                   epochs=1)"
   ]
  },
  {
   "cell_type": "code",
   "execution_count": null,
   "metadata": {},
   "outputs": [],
   "source": [
    "import tensorflow as tf\n",
    "tf.__version__\n",
    "tf.config.list_physical_devices()"
   ]
  },
  {
   "cell_type": "code",
   "execution_count": null,
   "metadata": {},
   "outputs": [],
   "source": [
    "import tensorflow as tf\n",
    "mnist = tf.keras.datasets.mnist\n",
    "(x_train, y_train), (x_test, y_test) = mnist.load_data()\n"
   ]
  },
  {
   "cell_type": "code",
   "execution_count": null,
   "metadata": {},
   "outputs": [],
   "source": [
    "model = tf.keras.models.Sequential([\n",
    " tf.keras.layers.Flatten(input_shape=(28, 28)),\n",
    " tf.keras.layers.Dense(128, activation='relu'),\n",
    " tf.keras.layers.Dropout(0.2),\n",
    " tf.keras.layers.Dense(10)\n",
    "])\n",
    "\n",
    "\n"
   ]
  },
  {
   "cell_type": "code",
   "execution_count": null,
   "metadata": {},
   "outputs": [],
   "source": [
    "loss_fn = tf.keras.losses.SparseCategoricalCrossentropy(from_logits=True)\n",
    "\n",
    "model.compile(optimizer='adam',\n",
    " loss=loss_fn,\n",
    " metrics=['accuracy'])"
   ]
  },
  {
   "cell_type": "code",
   "execution_count": null,
   "metadata": {},
   "outputs": [],
   "source": [
    "model.fit(x_train, y_train, epochs=2)"
   ]
  },
  {
   "cell_type": "code",
   "execution_count": null,
   "metadata": {},
   "outputs": [],
   "source": []
  }
 ],
 "metadata": {
  "kernelspec": {
   "display_name": "Python 3 (ipykernel)",
   "language": "python",
   "name": "python3"
  },
  "language_info": {
   "codemirror_mode": {
    "name": "ipython",
    "version": 3
   },
   "file_extension": ".py",
   "mimetype": "text/x-python",
   "name": "python",
   "nbconvert_exporter": "python",
   "pygments_lexer": "ipython3",
   "version": "3.9.7"
  }
 },
 "nbformat": 4,
 "nbformat_minor": 4
}
